{
 "cells": [
  {
   "cell_type": "code",
   "execution_count": 1,
   "id": "9e1906fc",
   "metadata": {
    "_cell_guid": "b1076dfc-b9ad-4769-8c92-a6c4dae69d19",
    "_uuid": "8f2839f25d086af736a60e9eeb907d3b93b6e0e5",
    "execution": {
     "iopub.execute_input": "2023-12-31T15:56:47.180384Z",
     "iopub.status.busy": "2023-12-31T15:56:47.179931Z",
     "iopub.status.idle": "2023-12-31T15:56:47.635561Z",
     "shell.execute_reply": "2023-12-31T15:56:47.634375Z"
    },
    "papermill": {
     "duration": 0.46658,
     "end_time": "2023-12-31T15:56:47.638688",
     "exception": false,
     "start_time": "2023-12-31T15:56:47.172108",
     "status": "completed"
    },
    "tags": []
   },
   "outputs": [],
   "source": [
    "# This Python 3 environment comes with many helpful analytics libraries installed\n",
    "# It is defined by the kaggle/python Docker image: https://github.com/kaggle/docker-python\n",
    "# For example, here's several helpful packages to load\n",
    "\n",
    "import numpy as np # linear algebra\n",
    "import pandas as pd # data processing, CSV file I/O (e.g. pd.read_csv)\n",
    "\n",
    "# Input data files are available in the read-only \"../input/\" directory\n",
    "# For example, running this (by clicking run or pressing Shift+Enter) will list all files under the input directory\n",
    "\n",
    "\n",
    "\n",
    "# You can write up to 20GB to the current directory (/kaggle/working/) that gets preserved as output when you create a version using \"Save & Run All\" \n",
    "# You can also write temporary files to /kaggle/temp/, but they won't be saved outside of the current session"
   ]
  },
  {
   "cell_type": "code",
   "execution_count": 2,
   "id": "46b14043",
   "metadata": {
    "execution": {
     "iopub.execute_input": "2023-12-31T15:56:47.651734Z",
     "iopub.status.busy": "2023-12-31T15:56:47.650876Z",
     "iopub.status.idle": "2023-12-31T15:56:49.454215Z",
     "shell.execute_reply": "2023-12-31T15:56:49.452856Z"
    },
    "papermill": {
     "duration": 1.813157,
     "end_time": "2023-12-31T15:56:49.457510",
     "exception": false,
     "start_time": "2023-12-31T15:56:47.644353",
     "status": "completed"
    },
    "tags": []
   },
   "outputs": [],
   "source": [
    "from sklearn.ensemble import RandomForestRegressor\n",
    "from sklearn.model_selection import train_test_split\n"
   ]
  },
  {
   "cell_type": "code",
   "execution_count": 3,
   "id": "3f5b8aaf",
   "metadata": {
    "execution": {
     "iopub.execute_input": "2023-12-31T15:56:49.470466Z",
     "iopub.status.busy": "2023-12-31T15:56:49.470004Z",
     "iopub.status.idle": "2023-12-31T15:56:50.492133Z",
     "shell.execute_reply": "2023-12-31T15:56:50.490938Z"
    },
    "papermill": {
     "duration": 1.033038,
     "end_time": "2023-12-31T15:56:50.495924",
     "exception": false,
     "start_time": "2023-12-31T15:56:49.462886",
     "status": "completed"
    },
    "tags": []
   },
   "outputs": [],
   "source": [
    "traindata=pd.read_csv('/kaggle/input/testandtrain-dataset/train.csv')\n",
    "testdata=pd.read_csv('/kaggle/input/testandtrain-dataset/test.csv')"
   ]
  },
  {
   "cell_type": "code",
   "execution_count": 4,
   "id": "0f259901",
   "metadata": {
    "execution": {
     "iopub.execute_input": "2023-12-31T15:56:50.508266Z",
     "iopub.status.busy": "2023-12-31T15:56:50.507827Z",
     "iopub.status.idle": "2023-12-31T15:56:50.537925Z",
     "shell.execute_reply": "2023-12-31T15:56:50.536565Z"
    },
    "papermill": {
     "duration": 0.039523,
     "end_time": "2023-12-31T15:56:50.540794",
     "exception": false,
     "start_time": "2023-12-31T15:56:50.501271",
     "status": "completed"
    },
    "tags": []
   },
   "outputs": [],
   "source": [
    "traindata.drop('id',axis=1,inplace=True)"
   ]
  },
  {
   "cell_type": "code",
   "execution_count": 5,
   "id": "7244ad85",
   "metadata": {
    "execution": {
     "iopub.execute_input": "2023-12-31T15:56:50.552563Z",
     "iopub.status.busy": "2023-12-31T15:56:50.552126Z",
     "iopub.status.idle": "2023-12-31T15:56:50.564457Z",
     "shell.execute_reply": "2023-12-31T15:56:50.563180Z"
    },
    "papermill": {
     "duration": 0.021001,
     "end_time": "2023-12-31T15:56:50.566848",
     "exception": false,
     "start_time": "2023-12-31T15:56:50.545847",
     "status": "completed"
    },
    "tags": []
   },
   "outputs": [],
   "source": [
    "id=testdata['id']\n",
    "testdata.drop('id',axis=1,inplace=True)"
   ]
  },
  {
   "cell_type": "code",
   "execution_count": 6,
   "id": "732c9ec7",
   "metadata": {
    "execution": {
     "iopub.execute_input": "2023-12-31T15:56:50.578670Z",
     "iopub.status.busy": "2023-12-31T15:56:50.578212Z",
     "iopub.status.idle": "2023-12-31T15:56:50.600586Z",
     "shell.execute_reply": "2023-12-31T15:56:50.599057Z"
    },
    "papermill": {
     "duration": 0.031762,
     "end_time": "2023-12-31T15:56:50.603497",
     "exception": false,
     "start_time": "2023-12-31T15:56:50.571735",
     "status": "completed"
    },
    "tags": []
   },
   "outputs": [],
   "source": [
    "x=traindata.drop(\"smoking\",axis=1)\n",
    "y=traindata[\"smoking\"]"
   ]
  },
  {
   "cell_type": "code",
   "execution_count": 7,
   "id": "94ef3fc8",
   "metadata": {
    "execution": {
     "iopub.execute_input": "2023-12-31T15:56:50.616060Z",
     "iopub.status.busy": "2023-12-31T15:56:50.615511Z",
     "iopub.status.idle": "2023-12-31T15:56:50.665236Z",
     "shell.execute_reply": "2023-12-31T15:56:50.664002Z"
    },
    "papermill": {
     "duration": 0.059542,
     "end_time": "2023-12-31T15:56:50.668278",
     "exception": false,
     "start_time": "2023-12-31T15:56:50.608736",
     "status": "completed"
    },
    "tags": []
   },
   "outputs": [],
   "source": [
    "x_train, _, y_train, _= train_test_split(x, y, test_size=0.2, random_state=42)"
   ]
  },
  {
   "cell_type": "code",
   "execution_count": 8,
   "id": "e4663efe",
   "metadata": {
    "execution": {
     "iopub.execute_input": "2023-12-31T15:56:50.680267Z",
     "iopub.status.busy": "2023-12-31T15:56:50.679781Z",
     "iopub.status.idle": "2023-12-31T15:56:50.687658Z",
     "shell.execute_reply": "2023-12-31T15:56:50.686346Z"
    },
    "papermill": {
     "duration": 0.016859,
     "end_time": "2023-12-31T15:56:50.690371",
     "exception": false,
     "start_time": "2023-12-31T15:56:50.673512",
     "status": "completed"
    },
    "tags": []
   },
   "outputs": [],
   "source": [
    "rf_model = RandomForestRegressor(n_estimators=150, random_state=42)"
   ]
  },
  {
   "cell_type": "code",
   "execution_count": 9,
   "id": "7adfb6cd",
   "metadata": {
    "execution": {
     "iopub.execute_input": "2023-12-31T15:56:50.702503Z",
     "iopub.status.busy": "2023-12-31T15:56:50.702055Z",
     "iopub.status.idle": "2023-12-31T16:00:18.858505Z",
     "shell.execute_reply": "2023-12-31T16:00:18.856964Z"
    },
    "papermill": {
     "duration": 208.170961,
     "end_time": "2023-12-31T16:00:18.866443",
     "exception": false,
     "start_time": "2023-12-31T15:56:50.695482",
     "status": "completed"
    },
    "tags": []
   },
   "outputs": [
    {
     "data": {
      "text/html": [
       "<style>#sk-container-id-1 {color: black;background-color: white;}#sk-container-id-1 pre{padding: 0;}#sk-container-id-1 div.sk-toggleable {background-color: white;}#sk-container-id-1 label.sk-toggleable__label {cursor: pointer;display: block;width: 100%;margin-bottom: 0;padding: 0.3em;box-sizing: border-box;text-align: center;}#sk-container-id-1 label.sk-toggleable__label-arrow:before {content: \"▸\";float: left;margin-right: 0.25em;color: #696969;}#sk-container-id-1 label.sk-toggleable__label-arrow:hover:before {color: black;}#sk-container-id-1 div.sk-estimator:hover label.sk-toggleable__label-arrow:before {color: black;}#sk-container-id-1 div.sk-toggleable__content {max-height: 0;max-width: 0;overflow: hidden;text-align: left;background-color: #f0f8ff;}#sk-container-id-1 div.sk-toggleable__content pre {margin: 0.2em;color: black;border-radius: 0.25em;background-color: #f0f8ff;}#sk-container-id-1 input.sk-toggleable__control:checked~div.sk-toggleable__content {max-height: 200px;max-width: 100%;overflow: auto;}#sk-container-id-1 input.sk-toggleable__control:checked~label.sk-toggleable__label-arrow:before {content: \"▾\";}#sk-container-id-1 div.sk-estimator input.sk-toggleable__control:checked~label.sk-toggleable__label {background-color: #d4ebff;}#sk-container-id-1 div.sk-label input.sk-toggleable__control:checked~label.sk-toggleable__label {background-color: #d4ebff;}#sk-container-id-1 input.sk-hidden--visually {border: 0;clip: rect(1px 1px 1px 1px);clip: rect(1px, 1px, 1px, 1px);height: 1px;margin: -1px;overflow: hidden;padding: 0;position: absolute;width: 1px;}#sk-container-id-1 div.sk-estimator {font-family: monospace;background-color: #f0f8ff;border: 1px dotted black;border-radius: 0.25em;box-sizing: border-box;margin-bottom: 0.5em;}#sk-container-id-1 div.sk-estimator:hover {background-color: #d4ebff;}#sk-container-id-1 div.sk-parallel-item::after {content: \"\";width: 100%;border-bottom: 1px solid gray;flex-grow: 1;}#sk-container-id-1 div.sk-label:hover label.sk-toggleable__label {background-color: #d4ebff;}#sk-container-id-1 div.sk-serial::before {content: \"\";position: absolute;border-left: 1px solid gray;box-sizing: border-box;top: 0;bottom: 0;left: 50%;z-index: 0;}#sk-container-id-1 div.sk-serial {display: flex;flex-direction: column;align-items: center;background-color: white;padding-right: 0.2em;padding-left: 0.2em;position: relative;}#sk-container-id-1 div.sk-item {position: relative;z-index: 1;}#sk-container-id-1 div.sk-parallel {display: flex;align-items: stretch;justify-content: center;background-color: white;position: relative;}#sk-container-id-1 div.sk-item::before, #sk-container-id-1 div.sk-parallel-item::before {content: \"\";position: absolute;border-left: 1px solid gray;box-sizing: border-box;top: 0;bottom: 0;left: 50%;z-index: -1;}#sk-container-id-1 div.sk-parallel-item {display: flex;flex-direction: column;z-index: 1;position: relative;background-color: white;}#sk-container-id-1 div.sk-parallel-item:first-child::after {align-self: flex-end;width: 50%;}#sk-container-id-1 div.sk-parallel-item:last-child::after {align-self: flex-start;width: 50%;}#sk-container-id-1 div.sk-parallel-item:only-child::after {width: 0;}#sk-container-id-1 div.sk-dashed-wrapped {border: 1px dashed gray;margin: 0 0.4em 0.5em 0.4em;box-sizing: border-box;padding-bottom: 0.4em;background-color: white;}#sk-container-id-1 div.sk-label label {font-family: monospace;font-weight: bold;display: inline-block;line-height: 1.2em;}#sk-container-id-1 div.sk-label-container {text-align: center;}#sk-container-id-1 div.sk-container {/* jupyter's `normalize.less` sets `[hidden] { display: none; }` but bootstrap.min.css set `[hidden] { display: none !important; }` so we also need the `!important` here to be able to override the default hidden behavior on the sphinx rendered scikit-learn.org. See: https://github.com/scikit-learn/scikit-learn/issues/21755 */display: inline-block !important;position: relative;}#sk-container-id-1 div.sk-text-repr-fallback {display: none;}</style><div id=\"sk-container-id-1\" class=\"sk-top-container\"><div class=\"sk-text-repr-fallback\"><pre>RandomForestRegressor(n_estimators=150, random_state=42)</pre><b>In a Jupyter environment, please rerun this cell to show the HTML representation or trust the notebook. <br />On GitHub, the HTML representation is unable to render, please try loading this page with nbviewer.org.</b></div><div class=\"sk-container\" hidden><div class=\"sk-item\"><div class=\"sk-estimator sk-toggleable\"><input class=\"sk-toggleable__control sk-hidden--visually\" id=\"sk-estimator-id-1\" type=\"checkbox\" checked><label for=\"sk-estimator-id-1\" class=\"sk-toggleable__label sk-toggleable__label-arrow\">RandomForestRegressor</label><div class=\"sk-toggleable__content\"><pre>RandomForestRegressor(n_estimators=150, random_state=42)</pre></div></div></div></div></div>"
      ],
      "text/plain": [
       "RandomForestRegressor(n_estimators=150, random_state=42)"
      ]
     },
     "execution_count": 9,
     "metadata": {},
     "output_type": "execute_result"
    }
   ],
   "source": [
    "rf_model.fit(x_train, y_train)"
   ]
  },
  {
   "cell_type": "code",
   "execution_count": 10,
   "id": "e4034e2d",
   "metadata": {
    "execution": {
     "iopub.execute_input": "2023-12-31T16:00:18.879351Z",
     "iopub.status.busy": "2023-12-31T16:00:18.878940Z",
     "iopub.status.idle": "2023-12-31T16:00:23.899183Z",
     "shell.execute_reply": "2023-12-31T16:00:23.897972Z"
    },
    "papermill": {
     "duration": 5.030215,
     "end_time": "2023-12-31T16:00:23.902197",
     "exception": false,
     "start_time": "2023-12-31T16:00:18.871982",
     "status": "completed"
    },
    "tags": []
   },
   "outputs": [],
   "source": [
    "y_predict = rf_model.predict(testdata)"
   ]
  },
  {
   "cell_type": "code",
   "execution_count": 11,
   "id": "437f17f7",
   "metadata": {
    "execution": {
     "iopub.execute_input": "2023-12-31T16:00:23.915355Z",
     "iopub.status.busy": "2023-12-31T16:00:23.914887Z",
     "iopub.status.idle": "2023-12-31T16:00:23.921433Z",
     "shell.execute_reply": "2023-12-31T16:00:23.920187Z"
    },
    "papermill": {
     "duration": 0.015536,
     "end_time": "2023-12-31T16:00:23.923657",
     "exception": false,
     "start_time": "2023-12-31T16:00:23.908121",
     "status": "completed"
    },
    "tags": []
   },
   "outputs": [],
   "source": [
    "predict_data=pd.DataFrame({'id':id,'smoking':y_predict})"
   ]
  },
  {
   "cell_type": "code",
   "execution_count": 12,
   "id": "82385fe0",
   "metadata": {
    "execution": {
     "iopub.execute_input": "2023-12-31T16:00:23.936848Z",
     "iopub.status.busy": "2023-12-31T16:00:23.935818Z",
     "iopub.status.idle": "2023-12-31T16:00:24.360176Z",
     "shell.execute_reply": "2023-12-31T16:00:24.358811Z"
    },
    "papermill": {
     "duration": 0.434062,
     "end_time": "2023-12-31T16:00:24.363133",
     "exception": false,
     "start_time": "2023-12-31T16:00:23.929071",
     "status": "completed"
    },
    "tags": []
   },
   "outputs": [],
   "source": [
    "predict_data.to_csv('predictRFR4.csv',index=False)"
   ]
  }
 ],
 "metadata": {
  "kaggle": {
   "accelerator": "none",
   "dataSources": [
    {
     "datasetId": 4092558,
     "sourceId": 7099842,
     "sourceType": "datasetVersion"
    }
   ],
   "dockerImageVersionId": 30626,
   "isGpuEnabled": false,
   "isInternetEnabled": true,
   "language": "python",
   "sourceType": "notebook"
  },
  "kernelspec": {
   "display_name": "Python 3",
   "language": "python",
   "name": "python3"
  },
  "language_info": {
   "codemirror_mode": {
    "name": "ipython",
    "version": 3
   },
   "file_extension": ".py",
   "mimetype": "text/x-python",
   "name": "python",
   "nbconvert_exporter": "python",
   "pygments_lexer": "ipython3",
   "version": "3.10.12"
  },
  "papermill": {
   "default_parameters": {},
   "duration": 221.6608,
   "end_time": "2023-12-31T16:00:25.091679",
   "environment_variables": {},
   "exception": null,
   "input_path": "__notebook__.ipynb",
   "output_path": "__notebook__.ipynb",
   "parameters": {},
   "start_time": "2023-12-31T15:56:43.430879",
   "version": "2.4.0"
  }
 },
 "nbformat": 4,
 "nbformat_minor": 5
}
